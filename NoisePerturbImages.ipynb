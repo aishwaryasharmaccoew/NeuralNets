{
  "cells": [
    {
      "cell_type": "markdown",
      "metadata": {
        "id": "view-in-github",
        "colab_type": "text"
      },
      "source": [
        "<a href=\"https://colab.research.google.com/github/aishwaryasharmaccoew/NeuralNets/blob/main/NoisePerturbImages.ipynb\" target=\"_parent\"><img src=\"https://colab.research.google.com/assets/colab-badge.svg\" alt=\"Open In Colab\"/></a>"
      ]
    },
    {
      "cell_type": "markdown",
      "source": [
        "**Perturb your dataset by adding noise, and saving the performance results**\n",
        "\n",
        "Noise will be Gaussian-distributed with approximately 10 percent cross-section (e.g., 25 noise pixels out of 16x16 = 256 pixels per image) and have zero mean, and standard deviation of (0.001, 0.002, 0.003, 0.005, 0.01, 0.02, 0.03, 0.05, and 0.1) .Then repeat this with noise at 20 percent, 25 percent, 30 percent, and 35 percent cross-section\n",
        "\n",
        "**Algorithm:**   \n",
        "\n",
        "1.  Generate random noise with std-dev as described above,\n",
        "2.  Add noise values to input image\n",
        "3.  Renormalize the noise-corrupted image so all of its pixels have values in the interval [0,1]. "
      ],
      "metadata": {
        "id": "waPEsFuZj59w"
      },
      "id": "waPEsFuZj59w"
    },
    {
      "cell_type": "code",
      "execution_count": 9,
      "id": "d291d182",
      "metadata": {
        "id": "d291d182"
      },
      "outputs": [],
      "source": [
        "import numpy as np\n",
        "import tensorflow as tf\n",
        "import random\n",
        "from random import seed\n"
      ]
    },
    {
      "cell_type": "code",
      "execution_count": 17,
      "id": "f9a1287b",
      "metadata": {
        "id": "f9a1287b"
      },
      "outputs": [],
      "source": [
        "#code to create perturbed dataset\n",
        "\n",
        "def perturb_dataset(path,pcs):\n",
        "  image=np.load(path)\n",
        "\n",
        "  seed(1)\n",
        "\n",
        "  mean =0\n",
        "  stddev= [0.001,0.002,0.003,0.005,0.01,0.02,0.03,0.05,0.1]\n",
        "  #randomly select x,y pixels to modify\n",
        "  stride = random.randint(round(0.5*pcs), round(1.5*pcs))\n",
        "  print(stride)\n",
        "  print(\"-----------\")\n",
        "\n",
        "  dataset=[]\n",
        "  for std in stddev:\n",
        "      print('For stddev :',std)\n",
        "      for img in image:\n",
        "          #original image\n",
        "          perturbed_img=[]\n",
        "          perturbed_img.append(img)\n",
        "          img=img.flatten()\n",
        "\n",
        "          gaus_noise = np.random.normal(mean, std, img.shape)\n",
        "          gaus_noise=gaus_noise.flatten()\n",
        "          p=0\n",
        "          while(p<256):\n",
        "              img[p]= img[p]+gaus_noise[p]\n",
        "              p=p+stride\n",
        "          #noise added   \n",
        "          perturbed_img.append(img.reshape(16,16))\n",
        "          dataset.append(perturbed_img)\n",
        "          \n",
        "  np.save(\"perturbed_data_\"+str(pcs)+\".npy\", np.asarray(dataset))\n",
        "  return np.asarray(dataset)"
      ]
    },
    {
      "cell_type": "code",
      "source": [
        "# Call the function for multiple std like    \n",
        "#perturb_dataset(path,percentCrossSectionValue)\n",
        "image= perturb_dataset(\"/content/Font1.npy\",35)"
      ],
      "metadata": {
        "colab": {
          "base_uri": "https://localhost:8080/"
        },
        "id": "TD_sUGF_h9-q",
        "outputId": "bf0166f8-def2-4178-f565-1120c9511846"
      },
      "id": "TD_sUGF_h9-q",
      "execution_count": 21,
      "outputs": [
        {
          "output_type": "stream",
          "name": "stdout",
          "text": [
            "26\n",
            "-----------\n",
            "For stddev : 0.001\n",
            "For stddev : 0.002\n",
            "For stddev : 0.003\n",
            "For stddev : 0.005\n",
            "For stddev : 0.01\n",
            "For stddev : 0.02\n",
            "For stddev : 0.03\n",
            "For stddev : 0.05\n",
            "For stddev : 0.1\n"
          ]
        },
        {
          "output_type": "stream",
          "name": "stderr",
          "text": [
            "/usr/local/lib/python3.7/dist-packages/ipykernel_launcher.py:34: VisibleDeprecationWarning: Creating an ndarray from ragged nested sequences (which is a list-or-tuple of lists-or-tuples-or ndarrays with different lengths or shapes) is deprecated. If you meant to do this, you must specify 'dtype=object' when creating the ndarray.\n",
            "/usr/local/lib/python3.7/dist-packages/ipykernel_launcher.py:35: VisibleDeprecationWarning: Creating an ndarray from ragged nested sequences (which is a list-or-tuple of lists-or-tuples-or ndarrays with different lengths or shapes) is deprecated. If you meant to do this, you must specify 'dtype=object' when creating the ndarray.\n"
          ]
        }
      ]
    },
    {
      "cell_type": "code",
      "execution_count": 22,
      "id": "5b20858c",
      "metadata": {
        "colab": {
          "base_uri": "https://localhost:8080/"
        },
        "id": "5b20858c",
        "outputId": "321ff155-5687-4b9a-c998-19474759d01a"
      },
      "outputs": [
        {
          "output_type": "stream",
          "name": "stdout",
          "text": [
            "(324, 2)\n",
            "[1 1 1 1 1 1 1 1 1 1 1 1 1 1 1 1 1 1 1 1 0 0 0 0 0 0 0 0 0 1 1 1 1 1 1 0 0\n",
            " 0 0 0 0 0 0 0 0 0 1 1 1 1 0 0 0 0 0 0 0 0 0 0 0 0 0 1 1 0 0 0 0 0 0 1 1 0\n",
            " 0 0 0 0 0 1 1 0 0 0 0 0 0 1 1 1 0 0 0 0 0 0 1 0 0 0 0 0 1 1 1 1 0 0 0 0 0\n",
            " 0 1 0 0 0 0 0 1 1 1 1 0 0 0 0 0 0 1 0 0 0 0 0 1 1 1 1 0 0 0 0 0 0 1 0 0 0\n",
            " 0 0 1 1 1 1 0 0 0 0 0 0 1 0 0 0 0 0 0 1 1 1 0 0 0 0 0 0 1 0 0 0 0 0 0 1 1\n",
            " 0 0 0 0 0 0 1 1 0 0 0 0 0 0 0 0 0 0 0 0 0 0 1 1 1 0 0 0 0 0 0 0 0 0 0 0 0\n",
            " 1 1 1 1 1 0 0 0 0 0 0 0 0 0 0 1 1 1 1 1 1 1 1 1 0 0 0 0 1 1 1 1 1 1]\n",
            "[[1 1 1 1 1 1 1 1 1 1 1 1 1 1 1 1]\n",
            " [1 1 1 1 0 0 0 0 0 0 0 0 0 1 1 1]\n",
            " [1 1 1 0 0 0 0 0 0 0 0 0 0 0 1 1]\n",
            " [1 1 0 0 0 0 0 0 0 0 0 0 0 0 0 1]\n",
            " [1 0 0 0 0 0 0 1 1 0 0 0 0 0 0 1]\n",
            " [1 0 0 0 0 0 0 1 1 1 0 0 0 0 0 0]\n",
            " [1 0 0 0 0 0 1 1 0 1 0 0 0 0 0 0]\n",
            " [1 0 0 0 0 0 1 1 1 1 0 0 0 0 0 0]\n",
            " [1 0 0 0 0 0 1 1 1 1 0 0 0 0 0 0]\n",
            " [1 0 0 0 0 0 1 1 1 1 0 0 0 0 0 0]\n",
            " [1 0 0 0 0 0 0 1 1 1 0 0 0 0 0 0]\n",
            " [1 0 0 0 0 0 0 1 1 0 0 0 0 0 0 1]\n",
            " [1 0 0 0 0 0 0 0 0 0 0 0 0 0 0 1]\n",
            " [1 1 0 0 0 0 0 0 0 0 0 0 0 0 1 1]\n",
            " [1 1 1 0 0 0 0 0 0 0 0 0 0 1 1 1]\n",
            " [1 1 1 1 1 1 0 0 0 0 1 1 1 1 1 1]]\n"
          ]
        }
      ],
      "source": [
        "#stride values 7,14,16,19,26\n",
        "# To load dataset :  img[0] -- original image, img[1] -- perturbed image\n",
        "\n",
        "\n",
        "\n",
        "print(image.shape)\n",
        "for img in image:\n",
        "    print(img[0])\n",
        "    print(img[1])\n",
        "    break"
      ]
    },
    {
      "cell_type": "code",
      "execution_count": null,
      "id": "e86c74b5",
      "metadata": {
        "id": "e86c74b5"
      },
      "outputs": [],
      "source": [
        ""
      ]
    }
  ],
  "metadata": {
    "kernelspec": {
      "display_name": "Python 3 (ipykernel)",
      "language": "python",
      "name": "python3"
    },
    "language_info": {
      "codemirror_mode": {
        "name": "ipython",
        "version": 3
      },
      "file_extension": ".py",
      "mimetype": "text/x-python",
      "name": "python",
      "nbconvert_exporter": "python",
      "pygments_lexer": "ipython3",
      "version": "3.7.0"
    },
    "colab": {
      "name": "NoisePerturbImages.ipynb",
      "provenance": [],
      "include_colab_link": true
    }
  },
  "nbformat": 4,
  "nbformat_minor": 5
}